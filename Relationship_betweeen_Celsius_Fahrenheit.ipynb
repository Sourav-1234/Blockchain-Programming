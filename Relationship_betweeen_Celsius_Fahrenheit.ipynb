{
  "nbformat": 4,
  "nbformat_minor": 0,
  "metadata": {
    "colab": {
      "name": "Untitled3.ipynb",
      "provenance": [],
      "include_colab_link": true
    },
    "kernelspec": {
      "name": "python3",
      "display_name": "Python 3"
    },
    "accelerator": "GPU"
  },
  "cells": [
    {
      "cell_type": "markdown",
      "metadata": {
        "id": "view-in-github",
        "colab_type": "text"
      },
      "source": [
        "<a href=\"https://colab.research.google.com/github/Sourav-1234/Blockchain-Programming/blob/master/Relationship_betweeen_Celsius_Fahrenheit.ipynb\" target=\"_parent\"><img src=\"https://colab.research.google.com/assets/colab-badge.svg\" alt=\"Open In Colab\"/></a>"
      ]
    },
    {
      "cell_type": "code",
      "metadata": {
        "id": "avYqhVFhbVcx",
        "colab_type": "code",
        "colab": {}
      },
      "source": [
        "from __future__ import absolute_import, division, print_function, unicode_literals"
      ],
      "execution_count": 0,
      "outputs": []
    },
    {
      "cell_type": "markdown",
      "metadata": {
        "id": "jz8cAgaJIt9V",
        "colab_type": "text"
      },
      "source": [
        "This is a simple model to predict the relationship between the fahrenheit and celsius "
      ]
    },
    {
      "cell_type": "code",
      "metadata": {
        "id": "6Ajvq5oVbj0U",
        "colab_type": "code",
        "outputId": "103c5a0d-20cd-408c-a96c-0ece3eb905d3",
        "colab": {
          "base_uri": "https://localhost:8080/",
          "height": 34
        }
      },
      "source": [
        "try:\n",
        "  # Use the %tensorflow_version magic if in colab.\n",
        "  %tensorflow_version 2.x\n",
        "except Exception:\n",
        "  pass\n",
        "\n",
        "import tensorflow as tf"
      ],
      "execution_count": 2,
      "outputs": [
        {
          "output_type": "stream",
          "text": [
            "TensorFlow 2.x selected.\n"
          ],
          "name": "stdout"
        }
      ]
    },
    {
      "cell_type": "code",
      "metadata": {
        "id": "EzXXl3gXbqg0",
        "colab_type": "code",
        "outputId": "b8109ef5-f99c-462b-c5a0-bc9ba6d4ec83",
        "colab": {
          "base_uri": "https://localhost:8080/",
          "height": 34
        }
      },
      "source": [
        "tf.version"
      ],
      "execution_count": 4,
      "outputs": [
        {
          "output_type": "execute_result",
          "data": {
            "text/plain": [
              "<module 'tensorflow_core._api.v2.version' from '/tensorflow-2.1.0/python3.6/tensorflow_core/_api/v2/version/__init__.py'>"
            ]
          },
          "metadata": {
            "tags": []
          },
          "execution_count": 4
        }
      ]
    },
    {
      "cell_type": "code",
      "metadata": {
        "id": "xww1JAyhb-fR",
        "colab_type": "code",
        "colab": {}
      },
      "source": [
        "import numpy as np"
      ],
      "execution_count": 0,
      "outputs": []
    },
    {
      "cell_type": "code",
      "metadata": {
        "id": "2syV1o-nf_0O",
        "colab_type": "code",
        "outputId": "7557413f-a01e-4773-96ec-7221aabd8ae6",
        "colab": {
          "base_uri": "https://localhost:8080/",
          "height": 34
        }
      },
      "source": [
        "cel= np.array([-40, -10,  0,  8, 15, 22,  38],  dtype=float)\n",
        "\n",
        "fahrenheit =np.array([-40,  14, 32, 46, 59, 72, 100],  dtype=float)\n",
        "cel"
      ],
      "execution_count": 0,
      "outputs": [
        {
          "output_type": "execute_result",
          "data": {
            "text/plain": [
              "array([-40., -10.,   0.,   8.,  15.,  22.,  38.])"
            ]
          },
          "metadata": {
            "tags": []
          },
          "execution_count": 5
        }
      ]
    },
    {
      "cell_type": "markdown",
      "metadata": {
        "id": "s0LFOlkmJTUj",
        "colab_type": "text"
      },
      "source": [
        "This is making a layer to predict the relationship between the celsius and fahrenheit"
      ]
    },
    {
      "cell_type": "code",
      "metadata": {
        "id": "l1TAx-hmgUwl",
        "colab_type": "code",
        "colab": {}
      },
      "source": [
        "l0 =tf.keras.layers.Dense(units=1,input_shape =[1])"
      ],
      "execution_count": 0,
      "outputs": []
    },
    {
      "cell_type": "markdown",
      "metadata": {
        "id": "YrXeCJZ9Jg_B",
        "colab_type": "text"
      },
      "source": [
        "This is deploying the model to predict the ANN "
      ]
    },
    {
      "cell_type": "code",
      "metadata": {
        "id": "2vDD8tlZhEQk",
        "colab_type": "code",
        "colab": {}
      },
      "source": [
        "model = tf.keras.Sequential([l0])"
      ],
      "execution_count": 0,
      "outputs": []
    },
    {
      "cell_type": "markdown",
      "metadata": {
        "id": "COB18whNJqYY",
        "colab_type": "text"
      },
      "source": [
        "This is compiling the model with the optimizer and loss function"
      ]
    },
    {
      "cell_type": "code",
      "metadata": {
        "id": "K2VToR5ihLuh",
        "colab_type": "code",
        "colab": {}
      },
      "source": [
        "model.compile(loss='mean_squared_error', optimizer= tf.keras.optimizers.Adam(0.1))"
      ],
      "execution_count": 0,
      "outputs": []
    },
    {
      "cell_type": "markdown",
      "metadata": {
        "id": "oyGpN1mVJ1SP",
        "colab_type": "text"
      },
      "source": [
        "This is done for **Training Purpose**"
      ]
    },
    {
      "cell_type": "code",
      "metadata": {
        "id": "zmKZJ4L9jCnQ",
        "colab_type": "code",
        "colab": {}
      },
      "source": [
        "history =model.fit( cel ,fahrenheit ,epochs =300 ,verbose=False)"
      ],
      "execution_count": 0,
      "outputs": []
    },
    {
      "cell_type": "code",
      "metadata": {
        "id": "vKuRFFvOkDX8",
        "colab_type": "code",
        "outputId": "0c08f9f8-d75c-4d51-95f4-c1d24f2fe1a0",
        "colab": {
          "base_uri": "https://localhost:8080/",
          "height": 34
        }
      },
      "source": [
        "print(\"Finished Training\")"
      ],
      "execution_count": 0,
      "outputs": [
        {
          "output_type": "stream",
          "text": [
            "Finished Training\n"
          ],
          "name": "stdout"
        }
      ]
    },
    {
      "cell_type": "markdown",
      "metadata": {
        "id": "xOH-7PquKAYY",
        "colab_type": "text"
      },
      "source": [
        "Checking the epoch with the loss Function"
      ]
    },
    {
      "cell_type": "code",
      "metadata": {
        "id": "Oesvq9WZlYPC",
        "colab_type": "code",
        "outputId": "f5d6a1e6-9989-4cd2-acff-3f769179ec24",
        "colab": {
          "base_uri": "https://localhost:8080/",
          "height": 299
        }
      },
      "source": [
        "import matplotlib.pyplot as plt\n",
        "plt.xlabel('Epoch Number')\n",
        "plt.ylabel(\"Loss Magnitude\")\n",
        "plt.plot(history.history['loss'])"
      ],
      "execution_count": 0,
      "outputs": [
        {
          "output_type": "execute_result",
          "data": {
            "text/plain": [
              "[<matplotlib.lines.Line2D at 0x7f27ca6db6a0>]"
            ]
          },
          "metadata": {
            "tags": []
          },
          "execution_count": 15
        },
        {
          "output_type": "display_data",
          "data": {
            "image/png": "[encoded data removed]",
            "text/plain": [
              "<Figure size 432x288 with 1 Axes>"
            ]
          },
          "metadata": {
            "tags": []
          }
        }
      ]
    },
    {
      "cell_type": "markdown",
      "metadata": {
        "id": "VOxZaNPrKGeJ",
        "colab_type": "text"
      },
      "source": [
        "Predciting the result with the model\n",
        "\n",
        "> Indented block\n",
        "\n"
      ]
    },
    {
      "cell_type": "code",
      "metadata": {
        "id": "urlZFQ46kbPY",
        "colab_type": "code",
        "outputId": "f8413006-8d48-4bb0-aecf-78fde8970fd6",
        "colab": {
          "base_uri": "https://localhost:8080/",
          "height": 34
        }
      },
      "source": [
        "print(model.predict([100.0]))"
      ],
      "execution_count": 0,
      "outputs": [
        {
          "output_type": "stream",
          "text": [
            "[[211.70016]]\n"
          ],
          "name": "stdout"
        }
      ]
    },
    {
      "cell_type": "markdown",
      "metadata": {
        "id": "7l4VH0slKTHS",
        "colab_type": "text"
      },
      "source": [
        "This is a network which has three layers two hidden layers and one output layer"
      ]
    },
    {
      "cell_type": "code",
      "metadata": {
        "id": "SIDZ5-zOkh7h",
        "colab_type": "code",
        "outputId": "2b2384c3-7e66-4fcd-c481-af9ce36745a3",
        "colab": {
          "base_uri": "https://localhost:8080/",
          "height": 34
        }
      },
      "source": [
        "print(\"The model hacve different weights{}\".format(model.get_weights()))"
      ],
      "execution_count": 0,
      "outputs": [
        {
          "output_type": "stream",
          "text": [
            "The model hacve different weights[array([[1.8009977]], dtype=float32), array([31.600386], dtype=float32)]\n"
          ],
          "name": "stdout"
        }
      ]
    },
    {
      "cell_type": "code",
      "metadata": {
        "id": "dJfh7jPMmgkz",
        "colab_type": "code",
        "colab": {}
      },
      "source": [
        "l1=tf.keras.layers.Dense(units=5 ,input_shape =[1])"
      ],
      "execution_count": 0,
      "outputs": []
    },
    {
      "cell_type": "code",
      "metadata": {
        "id": "asWvjaLAnAiu",
        "colab_type": "code",
        "colab": {}
      },
      "source": [
        "l2 =tf.keras.layers.Dense(units =3 ,input_shape=[5])"
      ],
      "execution_count": 0,
      "outputs": []
    },
    {
      "cell_type": "code",
      "metadata": {
        "id": "eZZxtxpDnipb",
        "colab_type": "code",
        "colab": {}
      },
      "source": [
        "l3= tf.keras.layers.Dense(units =2 ,input_shape=[3])"
      ],
      "execution_count": 0,
      "outputs": []
    },
    {
      "cell_type": "code",
      "metadata": {
        "id": "ytsqJPFtnw31",
        "colab_type": "code",
        "colab": {}
      },
      "source": [
        "l4= tf.keras.layers.Dense(units =1 ,input_shape=[2])"
      ],
      "execution_count": 0,
      "outputs": []
    },
    {
      "cell_type": "code",
      "metadata": {
        "id": "arN5xbXzn-ft",
        "colab_type": "code",
        "colab": {}
      },
      "source": [
        "model = tf.keras.Sequential([l1,l2,l3,l4])"
      ],
      "execution_count": 0,
      "outputs": []
    },
    {
      "cell_type": "code",
      "metadata": {
        "id": "2mcxGiikoL3l",
        "colab_type": "code",
        "colab": {}
      },
      "source": [
        "model.compile(loss='mean_squared_error', optimizer= tf.keras.optimizers.Adam(0.001))"
      ],
      "execution_count": 0,
      "outputs": []
    },
    {
      "cell_type": "code",
      "metadata": {
        "id": "iuh4sSIzoT05",
        "colab_type": "code",
        "colab": {}
      },
      "source": [
        "history = model.fit(cel ,fahrenheit , epochs=500 ,verbose =False)"
      ],
      "execution_count": 0,
      "outputs": []
    },
    {
      "cell_type": "code",
      "metadata": {
        "id": "0zMTON4DopQQ",
        "colab_type": "code",
        "outputId": "a2a9927e-960f-4209-dfeb-576533336b18",
        "colab": {
          "base_uri": "https://localhost:8080/",
          "height": 297
        }
      },
      "source": [
        "import matplotlib.pyplot as plt\n",
        "\n",
        "plt.xlabel(\"Epoch_Number\")\n",
        "plt.ylabel(\"Loss\")\n",
        "plt.plot(history.history['loss'])\n"
      ],
      "execution_count": 0,
      "outputs": [
        {
          "output_type": "execute_result",
          "data": {
            "text/plain": [
              "[<matplotlib.lines.Line2D at 0x7f27c8d72240>]"
            ]
          },
          "metadata": {
            "tags": []
          },
          "execution_count": 34
        },
        {
          "output_type": "display_data",
          "data": {
            "image/png": "[encoded data removed]",
            "text/plain": [
              "<Figure size 432x288 with 1 Axes>"
            ]
          },
          "metadata": {
            "tags": []
          }
        }
      ]
    },
    {
      "cell_type": "code",
      "metadata": {
        "id": "qrTfMrs_pVqR",
        "colab_type": "code",
        "outputId": "d77fec2d-f2bb-4104-f8e8-8a7d0c793f40",
        "colab": {
          "base_uri": "https://localhost:8080/",
          "height": 34
        }
      },
      "source": [
        "print(model.predict([100.0]))"
      ],
      "execution_count": 0,
      "outputs": [
        {
          "output_type": "stream",
          "text": [
            "[[211.74744]]\n"
          ],
          "name": "stdout"
        }
      ]
    },
    {
      "cell_type": "code",
      "metadata": {
        "id": "6vBuFOcppqKk",
        "colab_type": "code",
        "outputId": "c08a882e-246a-4217-b6ba-c160a17d9ecd",
        "colab": {
          "base_uri": "https://localhost:8080/",
          "height": 302
        }
      },
      "source": [
        "model.get_weights()"
      ],
      "execution_count": 0,
      "outputs": [
        {
          "output_type": "execute_result",
          "data": {
            "text/plain": [
              "[array([[ 0.568288  , -0.58661   , -0.10220156,  0.01441645, -0.48449352]],\n",
              "       dtype=float32),\n",
              " array([ 3.8578856, -3.6823466, -3.2066743, -1.5700525, -3.710675 ],\n",
              "       dtype=float32),\n",
              " array([[-0.4350172 ,  0.35503316,  0.68779814],\n",
              "        [-0.39701396, -0.8373959 , -0.5551034 ],\n",
              "        [-0.87940186,  0.04812344, -0.4102681 ],\n",
              "        [ 0.30342838, -0.38925776, -0.19075345],\n",
              "        [-0.18301007,  0.03103975, -0.87358373]], dtype=float32),\n",
              " array([3.4518168, 3.55354  , 3.7769332], dtype=float32),\n",
              " array([[0.78685   , 0.520498  ],\n",
              "        [0.09864279, 0.9129977 ],\n",
              "        [0.44000962, 1.0311993 ]], dtype=float32),\n",
              " array([3.6993387, 3.7319438], dtype=float32),\n",
              " array([[0.3847456 ],\n",
              "        [0.79568744]], dtype=float32),\n",
              " array([3.4964564], dtype=float32)]"
            ]
          },
          "metadata": {
            "tags": []
          },
          "execution_count": 31
        }
      ]
    },
    {
      "cell_type": "code",
      "metadata": {
        "id": "KkTvCNpdpvsm",
        "colab_type": "code",
        "colab": {}
      },
      "source": [
        ""
      ],
      "execution_count": 0,
      "outputs": []
    }
  ]
}